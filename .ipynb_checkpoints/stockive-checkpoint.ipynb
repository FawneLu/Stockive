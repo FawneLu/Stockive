{
 "cells": [
  {
   "cell_type": "code",
   "execution_count": 67,
   "metadata": {},
   "outputs": [],
   "source": [
    "import numpy as np\n",
    "from matplotlib import pyplot as plt\n",
    "import pandas as pd\n",
    "from keras.models import Sequential\n",
    "from keras.layers import Dense\n",
    "from keras.layers import LSTM\n",
    "from keras.layers import Dropout"
   ]
  },
  {
   "cell_type": "markdown",
   "metadata": {},
   "source": [
    "## Create Dataset "
   ]
  },
  {
   "cell_type": "code",
   "execution_count": 68,
   "metadata": {},
   "outputs": [],
   "source": [
    "stock_dataset = pd.read_csv(\"AMD.csv\", index_col = \"Date\", parse_dates=True)"
   ]
  },
  {
   "cell_type": "code",
   "execution_count": 69,
   "metadata": {},
   "outputs": [
    {
     "data": {
      "text/html": [
       "<div>\n",
       "<style scoped>\n",
       "    .dataframe tbody tr th:only-of-type {\n",
       "        vertical-align: middle;\n",
       "    }\n",
       "\n",
       "    .dataframe tbody tr th {\n",
       "        vertical-align: top;\n",
       "    }\n",
       "\n",
       "    .dataframe thead th {\n",
       "        text-align: right;\n",
       "    }\n",
       "</style>\n",
       "<table border=\"1\" class=\"dataframe\">\n",
       "  <thead>\n",
       "    <tr style=\"text-align: right;\">\n",
       "      <th></th>\n",
       "      <th>Open</th>\n",
       "      <th>High</th>\n",
       "      <th>Low</th>\n",
       "      <th>Close</th>\n",
       "      <th>Adj Close</th>\n",
       "      <th>Volume</th>\n",
       "    </tr>\n",
       "    <tr>\n",
       "      <th>Date</th>\n",
       "      <th></th>\n",
       "      <th></th>\n",
       "      <th></th>\n",
       "      <th></th>\n",
       "      <th></th>\n",
       "      <th></th>\n",
       "    </tr>\n",
       "  </thead>\n",
       "  <tbody>\n",
       "    <tr>\n",
       "      <th>2009-05-22</th>\n",
       "      <td>4.43</td>\n",
       "      <td>4.43</td>\n",
       "      <td>4.25</td>\n",
       "      <td>4.26</td>\n",
       "      <td>4.26</td>\n",
       "      <td>8274300</td>\n",
       "    </tr>\n",
       "    <tr>\n",
       "      <th>2009-05-26</th>\n",
       "      <td>4.26</td>\n",
       "      <td>4.57</td>\n",
       "      <td>4.23</td>\n",
       "      <td>4.53</td>\n",
       "      <td>4.53</td>\n",
       "      <td>16094300</td>\n",
       "    </tr>\n",
       "    <tr>\n",
       "      <th>2009-05-27</th>\n",
       "      <td>4.57</td>\n",
       "      <td>4.80</td>\n",
       "      <td>4.55</td>\n",
       "      <td>4.71</td>\n",
       "      <td>4.71</td>\n",
       "      <td>21512600</td>\n",
       "    </tr>\n",
       "    <tr>\n",
       "      <th>2009-05-28</th>\n",
       "      <td>4.75</td>\n",
       "      <td>4.84</td>\n",
       "      <td>4.54</td>\n",
       "      <td>4.70</td>\n",
       "      <td>4.70</td>\n",
       "      <td>18383900</td>\n",
       "    </tr>\n",
       "    <tr>\n",
       "      <th>2009-05-29</th>\n",
       "      <td>4.71</td>\n",
       "      <td>4.78</td>\n",
       "      <td>4.38</td>\n",
       "      <td>4.54</td>\n",
       "      <td>4.54</td>\n",
       "      <td>24539700</td>\n",
       "    </tr>\n",
       "  </tbody>\n",
       "</table>\n",
       "</div>"
      ],
      "text/plain": [
       "            Open  High   Low  Close  Adj Close    Volume\n",
       "Date                                                    \n",
       "2009-05-22  4.43  4.43  4.25   4.26       4.26   8274300\n",
       "2009-05-26  4.26  4.57  4.23   4.53       4.53  16094300\n",
       "2009-05-27  4.57  4.80  4.55   4.71       4.71  21512600\n",
       "2009-05-28  4.75  4.84  4.54   4.70       4.70  18383900\n",
       "2009-05-29  4.71  4.78  4.38   4.54       4.54  24539700"
      ]
     },
     "execution_count": 69,
     "metadata": {},
     "output_type": "execute_result"
    }
   ],
   "source": [
    "stock_dataset.head()"
   ]
  },
  {
   "cell_type": "code",
   "execution_count": 70,
   "metadata": {},
   "outputs": [
    {
     "data": {
      "text/html": [
       "<div>\n",
       "<style scoped>\n",
       "    .dataframe tbody tr th:only-of-type {\n",
       "        vertical-align: middle;\n",
       "    }\n",
       "\n",
       "    .dataframe tbody tr th {\n",
       "        vertical-align: top;\n",
       "    }\n",
       "\n",
       "    .dataframe thead th {\n",
       "        text-align: right;\n",
       "    }\n",
       "</style>\n",
       "<table border=\"1\" class=\"dataframe\">\n",
       "  <thead>\n",
       "    <tr style=\"text-align: right;\">\n",
       "      <th></th>\n",
       "      <th>Open</th>\n",
       "      <th>High</th>\n",
       "      <th>Low</th>\n",
       "      <th>Close</th>\n",
       "      <th>Adj Close</th>\n",
       "      <th>Volume</th>\n",
       "    </tr>\n",
       "  </thead>\n",
       "  <tbody>\n",
       "    <tr>\n",
       "      <th>count</th>\n",
       "      <td>2335.000000</td>\n",
       "      <td>2335.000000</td>\n",
       "      <td>2335.000000</td>\n",
       "      <td>2335.000000</td>\n",
       "      <td>2335.000000</td>\n",
       "      <td>2.335000e+03</td>\n",
       "    </tr>\n",
       "    <tr>\n",
       "      <th>mean</th>\n",
       "      <td>6.434732</td>\n",
       "      <td>6.563961</td>\n",
       "      <td>6.300887</td>\n",
       "      <td>6.433221</td>\n",
       "      <td>6.433221</td>\n",
       "      <td>3.107491e+07</td>\n",
       "    </tr>\n",
       "    <tr>\n",
       "      <th>std</th>\n",
       "      <td>3.872391</td>\n",
       "      <td>3.954999</td>\n",
       "      <td>3.792914</td>\n",
       "      <td>3.879124</td>\n",
       "      <td>3.879124</td>\n",
       "      <td>2.791149e+07</td>\n",
       "    </tr>\n",
       "    <tr>\n",
       "      <th>min</th>\n",
       "      <td>1.620000</td>\n",
       "      <td>1.690000</td>\n",
       "      <td>1.610000</td>\n",
       "      <td>1.620000</td>\n",
       "      <td>1.620000</td>\n",
       "      <td>0.000000e+00</td>\n",
       "    </tr>\n",
       "    <tr>\n",
       "      <th>25%</th>\n",
       "      <td>3.480000</td>\n",
       "      <td>3.550000</td>\n",
       "      <td>3.405000</td>\n",
       "      <td>3.465000</td>\n",
       "      <td>3.465000</td>\n",
       "      <td>1.421670e+07</td>\n",
       "    </tr>\n",
       "    <tr>\n",
       "      <th>50%</th>\n",
       "      <td>5.580000</td>\n",
       "      <td>5.720000</td>\n",
       "      <td>5.450000</td>\n",
       "      <td>5.600000</td>\n",
       "      <td>5.600000</td>\n",
       "      <td>2.228020e+07</td>\n",
       "    </tr>\n",
       "    <tr>\n",
       "      <th>75%</th>\n",
       "      <td>8.555000</td>\n",
       "      <td>8.710000</td>\n",
       "      <td>8.375000</td>\n",
       "      <td>8.565000</td>\n",
       "      <td>8.565000</td>\n",
       "      <td>3.776905e+07</td>\n",
       "    </tr>\n",
       "    <tr>\n",
       "      <th>max</th>\n",
       "      <td>25.510000</td>\n",
       "      <td>27.299999</td>\n",
       "      <td>24.629999</td>\n",
       "      <td>25.260000</td>\n",
       "      <td>25.260000</td>\n",
       "      <td>3.250584e+08</td>\n",
       "    </tr>\n",
       "  </tbody>\n",
       "</table>\n",
       "</div>"
      ],
      "text/plain": [
       "              Open         High          Low        Close    Adj Close  \\\n",
       "count  2335.000000  2335.000000  2335.000000  2335.000000  2335.000000   \n",
       "mean      6.434732     6.563961     6.300887     6.433221     6.433221   \n",
       "std       3.872391     3.954999     3.792914     3.879124     3.879124   \n",
       "min       1.620000     1.690000     1.610000     1.620000     1.620000   \n",
       "25%       3.480000     3.550000     3.405000     3.465000     3.465000   \n",
       "50%       5.580000     5.720000     5.450000     5.600000     5.600000   \n",
       "75%       8.555000     8.710000     8.375000     8.565000     8.565000   \n",
       "max      25.510000    27.299999    24.629999    25.260000    25.260000   \n",
       "\n",
       "             Volume  \n",
       "count  2.335000e+03  \n",
       "mean   3.107491e+07  \n",
       "std    2.791149e+07  \n",
       "min    0.000000e+00  \n",
       "25%    1.421670e+07  \n",
       "50%    2.228020e+07  \n",
       "75%    3.776905e+07  \n",
       "max    3.250584e+08  "
      ]
     },
     "execution_count": 70,
     "metadata": {},
     "output_type": "execute_result"
    }
   ],
   "source": [
    "stock_dataset.describe()"
   ]
  },
  {
   "cell_type": "code",
   "execution_count": 71,
   "metadata": {},
   "outputs": [
    {
     "data": {
      "text/plain": [
       "Open         float64\n",
       "High         float64\n",
       "Low          float64\n",
       "Close        float64\n",
       "Adj Close    float64\n",
       "Volume         int64\n",
       "dtype: object"
      ]
     },
     "execution_count": 71,
     "metadata": {},
     "output_type": "execute_result"
    }
   ],
   "source": [
    "stock_dataset.dtypes"
   ]
  },
  {
   "cell_type": "code",
   "execution_count": 72,
   "metadata": {},
   "outputs": [
    {
     "data": {
      "text/plain": [
       "<matplotlib.axes._subplots.AxesSubplot at 0x13c388b70>"
      ]
     },
     "execution_count": 72,
     "metadata": {},
     "output_type": "execute_result"
    },
    {
     "data": {
      "image/png": "[encoded data removed]",
      "text/plain": [
       "<Figure size 1440x576 with 1 Axes>"
      ]
     },
     "metadata": {
      "needs_background": "light"
     },
     "output_type": "display_data"
    }
   ],
   "source": [
    "stock_dataset['Open'].plot(figsize = (20,8))"
   ]
  },
  {
   "cell_type": "code",
   "execution_count": 22,
   "metadata": {},
   "outputs": [
    {
     "data": {
      "text/plain": [
       "(6.4347323361884365, 3.872390825060707)"
      ]
     },
     "execution_count": 22,
     "metadata": {},
     "output_type": "execute_result"
    }
   ],
   "source": [
    "open_dataset = stock_dataset[\"Open\"]\n",
    "mean = open_dataset.mean()\n",
    "std = open_dataset.std()\n",
    "mean,std"
   ]
  },
  {
   "cell_type": "code",
   "execution_count": 73,
   "metadata": {},
   "outputs": [
    {
     "data": {
      "text/plain": [
       "Date\n",
       "2009-05-22   -1.795385\n",
       "2009-05-26   -1.806721\n",
       "2009-05-27   -1.786049\n",
       "2009-05-28   -1.774045\n",
       "2009-05-29   -1.776712\n",
       "Name: Open, dtype: float64"
      ]
     },
     "execution_count": 73,
     "metadata": {},
     "output_type": "execute_result"
    }
   ],
   "source": [
    "open_dataset = open_dataset.apply(lambda x : (x - mean) / std)\n",
    "open_dataset.head()"
   ]
  },
  {
   "cell_type": "code",
   "execution_count": 74,
   "metadata": {},
   "outputs": [
    {
     "data": {
      "text/plain": [
       "(2335,)"
      ]
     },
     "execution_count": 74,
     "metadata": {},
     "output_type": "execute_result"
    }
   ],
   "source": [
    "open_dataset.shape"
   ]
  },
  {
   "cell_type": "code",
   "execution_count": 75,
   "metadata": {},
   "outputs": [],
   "source": [
    "features = []\n",
    "y = []\n",
    "\n",
    "window_size = 50\n",
    "predicted_size = 1\n",
    "\n",
    "for i in range(open_dataset.shape[0] - window_size - predicted_size):\n",
    "    features.append(open_dataset[i:i+window_size])\n",
    "    y.append(open_dataset[i+ window_size])\n",
    "features, y = np.array(features), np.array(y)\n",
    "features = np.reshape(features, (features.shape[0], features.shape[1], 1))"
   ]
  },
  {
   "cell_type": "markdown",
   "metadata": {},
   "source": [
    "## Train test split  (20%)"
   ]
  },
  {
   "cell_type": "code",
   "execution_count": 76,
   "metadata": {},
   "outputs": [
    {
     "data": {
      "text/plain": [
       "((1827, 50, 1), (1827,))"
      ]
     },
     "execution_count": 76,
     "metadata": {},
     "output_type": "execute_result"
    }
   ],
   "source": [
    "split_index = int(features.shape[0]*(1-0.2))\n",
    "X_train, X_test = features[0:split_index],features[split_index:]\n",
    "y_train,y_test = y[0:split_index],y[split_index:]\n",
    "\n",
    "X_train.shape, y_train.shape"
   ]
  },
  {
   "cell_type": "markdown",
   "metadata": {},
   "source": [
    "## Create Neural Network"
   ]
  },
  {
   "cell_type": "code",
   "execution_count": 78,
   "metadata": {},
   "outputs": [],
   "source": [
    "model = Sequential()\n",
    "\n",
    "model.add(LSTM(units = 50, return_sequences = True, input_shape = (window_size, 1)))\n",
    "model.add(Dropout(0.2))\n",
    "\n",
    "model.add(LSTM(units = 100, return_sequences = True))\n",
    "model.add(Dropout(0.2))\n",
    "\n",
    "model.add(LSTM(units = 100, return_sequences = True))\n",
    "model.add(Dropout(0.2))\n",
    "\n",
    "model.add(LSTM(units = 50), return_sequences = False)\n",
    "model.add(Dropout(0.2))\n",
    "\n",
    "model.add(Dense(units = 1))\n",
    "\n",
    "model.compile(optimizer = 'adam', loss = 'mean_squared_error')"
   ]
  },
  {
   "cell_type": "markdown",
   "metadata": {},
   "source": [
    "## Fit model"
   ]
  },
  {
   "cell_type": "code",
   "execution_count": 79,
   "metadata": {},
   "outputs": [
    {
     "name": "stdout",
     "output_type": "stream",
     "text": [
      "Epoch 1/50\n",
      "2284/2284 [==============================] - 10s 4ms/step - loss: 1.2290\n",
      "Epoch 2/50\n",
      "2284/2284 [==============================] - 5s 2ms/step - loss: 0.2072\n",
      "Epoch 3/50\n",
      "2284/2284 [==============================] - 5s 2ms/step - loss: 0.1293\n",
      "Epoch 4/50\n",
      "2284/2284 [==============================] - 5s 2ms/step - loss: 0.0969\n",
      "Epoch 5/50\n",
      "2284/2284 [==============================] - 6s 2ms/step - loss: 0.0856\n",
      "Epoch 6/50\n",
      "2284/2284 [==============================] - 5s 2ms/step - loss: 0.0822\n",
      "Epoch 7/50\n",
      "2284/2284 [==============================] - 6s 2ms/step - loss: 0.0708\n",
      "Epoch 8/50\n",
      "2284/2284 [==============================] - 5s 2ms/step - loss: 0.0665\n",
      "Epoch 9/50\n",
      "2284/2284 [==============================] - 5s 2ms/step - loss: 0.0550\n",
      "Epoch 10/50\n",
      "2284/2284 [==============================] - 5s 2ms/step - loss: 0.0428\n",
      "Epoch 11/50\n",
      "2284/2284 [==============================] - 5s 2ms/step - loss: 0.0341\n",
      "Epoch 12/50\n",
      "2284/2284 [==============================] - 5s 2ms/step - loss: 0.0286\n",
      "Epoch 13/50\n",
      "2284/2284 [==============================] - 5s 2ms/step - loss: 0.0285\n",
      "Epoch 14/50\n",
      "2284/2284 [==============================] - 5s 2ms/step - loss: 0.0266\n",
      "Epoch 15/50\n",
      "2284/2284 [==============================] - 5s 2ms/step - loss: 0.0272\n",
      "Epoch 16/50\n",
      "2284/2284 [==============================] - 5s 2ms/step - loss: 0.0264\n",
      "Epoch 17/50\n",
      "2284/2284 [==============================] - 5s 2ms/step - loss: 0.0273\n",
      "Epoch 18/50\n",
      "2284/2284 [==============================] - 5s 2ms/step - loss: 0.0263\n",
      "Epoch 19/50\n",
      "2284/2284 [==============================] - 5s 2ms/step - loss: 0.0252\n",
      "Epoch 20/50\n",
      "2284/2284 [==============================] - 5s 2ms/step - loss: 0.0248\n",
      "Epoch 21/50\n",
      "2284/2284 [==============================] - 5s 2ms/step - loss: 0.0242\n",
      "Epoch 22/50\n",
      "2284/2284 [==============================] - 5s 2ms/step - loss: 0.0241\n",
      "Epoch 23/50\n",
      "2284/2284 [==============================] - 5s 2ms/step - loss: 0.0236\n",
      "Epoch 24/50\n",
      "2284/2284 [==============================] - 4s 2ms/step - loss: 0.0225\n",
      "Epoch 25/50\n",
      "2284/2284 [==============================] - 4s 2ms/step - loss: 0.0222\n",
      "Epoch 26/50\n",
      "2284/2284 [==============================] - 4s 2ms/step - loss: 0.0237\n",
      "Epoch 27/50\n",
      "2284/2284 [==============================] - 6s 2ms/step - loss: 0.0224\n",
      "Epoch 28/50\n",
      "2284/2284 [==============================] - 5s 2ms/step - loss: 0.0241\n",
      "Epoch 29/50\n",
      "2284/2284 [==============================] - 5s 2ms/step - loss: 0.0265\n",
      "Epoch 30/50\n",
      "2284/2284 [==============================] - 5s 2ms/step - loss: 0.0236\n",
      "Epoch 31/50\n",
      "2284/2284 [==============================] - 6s 3ms/step - loss: 0.0217\n",
      "Epoch 32/50\n",
      "2284/2284 [==============================] - 5s 2ms/step - loss: 0.0213\n",
      "Epoch 33/50\n",
      "2284/2284 [==============================] - 5s 2ms/step - loss: 0.0206\n",
      "Epoch 34/50\n",
      "2284/2284 [==============================] - 5s 2ms/step - loss: 0.0188\n",
      "Epoch 35/50\n",
      "2284/2284 [==============================] - 5s 2ms/step - loss: 0.0219\n",
      "Epoch 36/50\n",
      "2284/2284 [==============================] - 5s 2ms/step - loss: 0.0210\n",
      "Epoch 37/50\n",
      "2284/2284 [==============================] - 6s 3ms/step - loss: 0.0206\n",
      "Epoch 38/50\n",
      "2284/2284 [==============================] - 5s 2ms/step - loss: 0.0201\n",
      "Epoch 39/50\n",
      "2284/2284 [==============================] - 5s 2ms/step - loss: 0.0211\n",
      "Epoch 40/50\n",
      "2284/2284 [==============================] - 5s 2ms/step - loss: 0.0198\n",
      "Epoch 41/50\n",
      "2284/2284 [==============================] - 5s 2ms/step - loss: 0.0200\n",
      "Epoch 42/50\n",
      "2284/2284 [==============================] - 5s 2ms/step - loss: 0.0194\n",
      "Epoch 43/50\n",
      "2284/2284 [==============================] - 5s 2ms/step - loss: 0.0198\n",
      "Epoch 44/50\n",
      "2284/2284 [==============================] - 5s 2ms/step - loss: 0.0190\n",
      "Epoch 45/50\n",
      "2284/2284 [==============================] - 5s 2ms/step - loss: 0.0198\n",
      "Epoch 46/50\n",
      "2284/2284 [==============================] - 5s 2ms/step - loss: 0.0208\n",
      "Epoch 47/50\n",
      "2284/2284 [==============================] - 5s 2ms/step - loss: 0.0233\n",
      "Epoch 48/50\n",
      "2284/2284 [==============================] - 5s 2ms/step - loss: 0.0209\n",
      "Epoch 49/50\n",
      "2284/2284 [==============================] - 4s 2ms/step - loss: 0.0197\n",
      "Epoch 50/50\n",
      "2284/2284 [==============================] - 4s 2ms/step - loss: 0.0195\n"
     ]
    },
    {
     "data": {
      "text/plain": [
       "<keras.callbacks.History at 0x13b936ef0>"
      ]
     },
     "execution_count": 79,
     "metadata": {},
     "output_type": "execute_result"
    }
   ],
   "source": [
    "model.fit(\n",
    "    features, \n",
    "    y, \n",
    "    epochs = 50, \n",
    "    batch_size = 32\n",
    ")"
   ]
  },
  {
   "cell_type": "code",
   "execution_count": 82,
   "metadata": {},
   "outputs": [],
   "source": [
    "predict_stcok = model.predict(X_test)"
   ]
  },
  {
   "cell_type": "code",
   "execution_count": 84,
   "metadata": {},
   "outputs": [
    {
     "data": {
      "image/png": "[encoded data removed]",
      "text/plain": [
       "<Figure size 1440x288 with 1 Axes>"
      ]
     },
     "metadata": {
      "needs_background": "light"
     },
     "output_type": "display_data"
    }
   ],
   "source": [
    "plt.figure(figsize = (20,4))\n",
    "plt.plot(predict_stcok,color='red', label='prediction')\n",
    "plt.plot(y_test,color='blue', label='y_test')\n",
    "plt.legend(loc='upper left')\n",
    "plt.show()"
   ]
  },
  {
   "cell_type": "code",
   "execution_count": null,
   "metadata": {},
   "outputs": [],
   "source": []
  }
 ],
 "metadata": {
  "kernelspec": {
   "display_name": "Python 3",
   "language": "python",
   "name": "python3"
  },
  "language_info": {
   "codemirror_mode": {
    "name": "ipython",
    "version": 3
   },
   "file_extension": ".py",
   "mimetype": "text/x-python",
   "name": "python",
   "nbconvert_exporter": "python",
   "pygments_lexer": "ipython3",
   "version": "3.6.8"
  }
 },
 "nbformat": 4,
 "nbformat_minor": 2
}
