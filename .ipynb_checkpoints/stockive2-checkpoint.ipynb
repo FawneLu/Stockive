{
 "cells": [
  {
   "cell_type": "code",
   "execution_count": 54,
   "metadata": {},
   "outputs": [],
   "source": [
    "import numpy as np\n",
    "from matplotlib import pyplot as plt\n",
    "import pandas as pd\n",
    "from keras.models import Sequential\n",
    "from keras.layers import Dense\n",
    "from keras.layers import LSTM\n",
    "from keras.layers import Dropout\n",
    "import pickle as pkl\n",
    "import json\n",
    "import requests\n",
    "\n",
    "from sklearn.model_selection import train_test_split\n",
    "from sklearn.preprocessing import StandardScaler"
   ]
  },
  {
   "cell_type": "code",
   "execution_count": 165,
   "metadata": {},
   "outputs": [],
   "source": [
    "apikey = \"L8KVYT9ERPAC16J7\"\n",
    "symbol = \"MSFT\"\n",
    "function = \"TIME_SERIES_DAILY\"\n",
    "outputsize = \"full\"\n",
    "api = \"https://www.alphavantage.co/query?function={}&symbol={}&outputsize={}&apikey={}\".format(function,symbol,outputsize,apikey)\n",
    "\n",
    "def get_realtime_stock_data():\n",
    "    responses = requests.get(api)\n",
    "    raw_data = responses.json()\n",
    "\n",
    "    time_series = raw_data[\"Time Series (Daily)\"]\n",
    "\n",
    "    meta_data = raw_data[\"Meta Data\"]\n",
    "\n",
    "    df = pd.DataFrame(data = time_series).T\n",
    "    df.columns = df.columns.to_series().apply(lambda x: x.split(\".\")[-1].strip())\n",
    "    df.sort_index( inplace= True)\n",
    "    \n",
    "    return df,meta_data"
   ]
  },
  {
   "cell_type": "code",
   "execution_count": 166,
   "metadata": {},
   "outputs": [],
   "source": [
    "stock_dataset,meta_data = get_realtime_stock_data()"
   ]
  },
  {
   "cell_type": "code",
   "execution_count": 167,
   "metadata": {},
   "outputs": [],
   "source": [
    "stock_dataset = stock_dataset.astype(\"float64\").fillna(method = \"backfill\")"
   ]
  },
  {
   "cell_type": "code",
   "execution_count": 168,
   "metadata": {},
   "outputs": [
    {
     "data": {
      "text/html": [
       "<div>\n",
       "<style scoped>\n",
       "    .dataframe tbody tr th:only-of-type {\n",
       "        vertical-align: middle;\n",
       "    }\n",
       "\n",
       "    .dataframe tbody tr th {\n",
       "        vertical-align: top;\n",
       "    }\n",
       "\n",
       "    .dataframe thead th {\n",
       "        text-align: right;\n",
       "    }\n",
       "</style>\n",
       "<table border=\"1\" class=\"dataframe\">\n",
       "  <thead>\n",
       "    <tr style=\"text-align: right;\">\n",
       "      <th></th>\n",
       "      <th>open</th>\n",
       "      <th>high</th>\n",
       "      <th>low</th>\n",
       "      <th>close</th>\n",
       "      <th>volume</th>\n",
       "    </tr>\n",
       "  </thead>\n",
       "  <tbody>\n",
       "    <tr>\n",
       "      <th>1998-01-02</th>\n",
       "      <td>129.63</td>\n",
       "      <td>131.50</td>\n",
       "      <td>129.50</td>\n",
       "      <td>131.13</td>\n",
       "      <td>4968500.0</td>\n",
       "    </tr>\n",
       "    <tr>\n",
       "      <th>1998-01-05</th>\n",
       "      <td>131.25</td>\n",
       "      <td>133.63</td>\n",
       "      <td>127.87</td>\n",
       "      <td>130.38</td>\n",
       "      <td>10047200.0</td>\n",
       "    </tr>\n",
       "    <tr>\n",
       "      <th>1998-01-06</th>\n",
       "      <td>129.75</td>\n",
       "      <td>133.00</td>\n",
       "      <td>129.25</td>\n",
       "      <td>131.13</td>\n",
       "      <td>8479300.0</td>\n",
       "    </tr>\n",
       "    <tr>\n",
       "      <th>1998-01-07</th>\n",
       "      <td>129.88</td>\n",
       "      <td>131.19</td>\n",
       "      <td>127.50</td>\n",
       "      <td>129.56</td>\n",
       "      <td>7686600.0</td>\n",
       "    </tr>\n",
       "    <tr>\n",
       "      <th>1998-01-08</th>\n",
       "      <td>128.63</td>\n",
       "      <td>132.13</td>\n",
       "      <td>127.50</td>\n",
       "      <td>130.50</td>\n",
       "      <td>9702400.0</td>\n",
       "    </tr>\n",
       "  </tbody>\n",
       "</table>\n",
       "</div>"
      ],
      "text/plain": [
       "              open    high     low   close      volume\n",
       "1998-01-02  129.63  131.50  129.50  131.13   4968500.0\n",
       "1998-01-05  131.25  133.63  127.87  130.38  10047200.0\n",
       "1998-01-06  129.75  133.00  129.25  131.13   8479300.0\n",
       "1998-01-07  129.88  131.19  127.50  129.56   7686600.0\n",
       "1998-01-08  128.63  132.13  127.50  130.50   9702400.0"
      ]
     },
     "execution_count": 168,
     "metadata": {},
     "output_type": "execute_result"
    }
   ],
   "source": [
    "stock_dataset.head()"
   ]
  },
  {
   "cell_type": "code",
   "execution_count": 169,
   "metadata": {},
   "outputs": [
    {
     "data": {
      "text/html": [
       "<div>\n",
       "<style scoped>\n",
       "    .dataframe tbody tr th:only-of-type {\n",
       "        vertical-align: middle;\n",
       "    }\n",
       "\n",
       "    .dataframe tbody tr th {\n",
       "        vertical-align: top;\n",
       "    }\n",
       "\n",
       "    .dataframe thead th {\n",
       "        text-align: right;\n",
       "    }\n",
       "</style>\n",
       "<table border=\"1\" class=\"dataframe\">\n",
       "  <thead>\n",
       "    <tr style=\"text-align: right;\">\n",
       "      <th></th>\n",
       "      <th>open</th>\n",
       "      <th>high</th>\n",
       "      <th>low</th>\n",
       "      <th>close</th>\n",
       "      <th>volume</th>\n",
       "    </tr>\n",
       "  </thead>\n",
       "  <tbody>\n",
       "    <tr>\n",
       "      <th>2019-02-05</th>\n",
       "      <td>106.060</td>\n",
       "      <td>107.27</td>\n",
       "      <td>105.9600</td>\n",
       "      <td>107.22</td>\n",
       "      <td>27325365.0</td>\n",
       "    </tr>\n",
       "    <tr>\n",
       "      <th>2019-02-06</th>\n",
       "      <td>107.000</td>\n",
       "      <td>107.00</td>\n",
       "      <td>105.5300</td>\n",
       "      <td>106.03</td>\n",
       "      <td>20609759.0</td>\n",
       "    </tr>\n",
       "    <tr>\n",
       "      <th>2019-02-07</th>\n",
       "      <td>105.185</td>\n",
       "      <td>105.59</td>\n",
       "      <td>104.2900</td>\n",
       "      <td>105.27</td>\n",
       "      <td>29760697.0</td>\n",
       "    </tr>\n",
       "    <tr>\n",
       "      <th>2019-02-08</th>\n",
       "      <td>104.390</td>\n",
       "      <td>105.78</td>\n",
       "      <td>104.2603</td>\n",
       "      <td>105.67</td>\n",
       "      <td>21461093.0</td>\n",
       "    </tr>\n",
       "    <tr>\n",
       "      <th>2019-02-11</th>\n",
       "      <td>106.200</td>\n",
       "      <td>106.58</td>\n",
       "      <td>104.9650</td>\n",
       "      <td>105.25</td>\n",
       "      <td>18753750.0</td>\n",
       "    </tr>\n",
       "  </tbody>\n",
       "</table>\n",
       "</div>"
      ],
      "text/plain": [
       "               open    high       low   close      volume\n",
       "2019-02-05  106.060  107.27  105.9600  107.22  27325365.0\n",
       "2019-02-06  107.000  107.00  105.5300  106.03  20609759.0\n",
       "2019-02-07  105.185  105.59  104.2900  105.27  29760697.0\n",
       "2019-02-08  104.390  105.78  104.2603  105.67  21461093.0\n",
       "2019-02-11  106.200  106.58  104.9650  105.25  18753750.0"
      ]
     },
     "execution_count": 169,
     "metadata": {},
     "output_type": "execute_result"
    }
   ],
   "source": [
    "stock_dataset.tail()"
   ]
  },
  {
   "cell_type": "code",
   "execution_count": 170,
   "metadata": {},
   "outputs": [
    {
     "data": {
      "text/html": [
       "<div>\n",
       "<style scoped>\n",
       "    .dataframe tbody tr th:only-of-type {\n",
       "        vertical-align: middle;\n",
       "    }\n",
       "\n",
       "    .dataframe tbody tr th {\n",
       "        vertical-align: top;\n",
       "    }\n",
       "\n",
       "    .dataframe thead th {\n",
       "        text-align: right;\n",
       "    }\n",
       "</style>\n",
       "<table border=\"1\" class=\"dataframe\">\n",
       "  <thead>\n",
       "    <tr style=\"text-align: right;\">\n",
       "      <th></th>\n",
       "      <th>open</th>\n",
       "      <th>high</th>\n",
       "      <th>low</th>\n",
       "      <th>close</th>\n",
       "      <th>volume</th>\n",
       "    </tr>\n",
       "  </thead>\n",
       "  <tbody>\n",
       "    <tr>\n",
       "      <th>count</th>\n",
       "      <td>5311.000000</td>\n",
       "      <td>5311.000000</td>\n",
       "      <td>5311.000000</td>\n",
       "      <td>5311.000000</td>\n",
       "      <td>5.311000e+03</td>\n",
       "    </tr>\n",
       "    <tr>\n",
       "      <th>mean</th>\n",
       "      <td>49.259814</td>\n",
       "      <td>49.864774</td>\n",
       "      <td>48.654700</td>\n",
       "      <td>49.272707</td>\n",
       "      <td>4.745695e+07</td>\n",
       "    </tr>\n",
       "    <tr>\n",
       "      <th>std</th>\n",
       "      <td>29.575430</td>\n",
       "      <td>30.025200</td>\n",
       "      <td>29.098902</td>\n",
       "      <td>29.594939</td>\n",
       "      <td>2.879121e+07</td>\n",
       "    </tr>\n",
       "    <tr>\n",
       "      <th>min</th>\n",
       "      <td>15.200000</td>\n",
       "      <td>15.620000</td>\n",
       "      <td>14.870000</td>\n",
       "      <td>15.150000</td>\n",
       "      <td>3.458100e+06</td>\n",
       "    </tr>\n",
       "    <tr>\n",
       "      <th>25%</th>\n",
       "      <td>27.070000</td>\n",
       "      <td>27.300000</td>\n",
       "      <td>26.889950</td>\n",
       "      <td>27.100000</td>\n",
       "      <td>2.798371e+07</td>\n",
       "    </tr>\n",
       "    <tr>\n",
       "      <th>50%</th>\n",
       "      <td>34.960000</td>\n",
       "      <td>35.200000</td>\n",
       "      <td>34.590000</td>\n",
       "      <td>34.960000</td>\n",
       "      <td>4.264970e+07</td>\n",
       "    </tr>\n",
       "    <tr>\n",
       "      <th>75%</th>\n",
       "      <td>64.357500</td>\n",
       "      <td>65.025000</td>\n",
       "      <td>63.710000</td>\n",
       "      <td>64.485000</td>\n",
       "      <td>5.998210e+07</td>\n",
       "    </tr>\n",
       "    <tr>\n",
       "      <th>max</th>\n",
       "      <td>178.940000</td>\n",
       "      <td>180.380000</td>\n",
       "      <td>175.750000</td>\n",
       "      <td>179.940000</td>\n",
       "      <td>5.910522e+08</td>\n",
       "    </tr>\n",
       "  </tbody>\n",
       "</table>\n",
       "</div>"
      ],
      "text/plain": [
       "              open         high          low        close        volume\n",
       "count  5311.000000  5311.000000  5311.000000  5311.000000  5.311000e+03\n",
       "mean     49.259814    49.864774    48.654700    49.272707  4.745695e+07\n",
       "std      29.575430    30.025200    29.098902    29.594939  2.879121e+07\n",
       "min      15.200000    15.620000    14.870000    15.150000  3.458100e+06\n",
       "25%      27.070000    27.300000    26.889950    27.100000  2.798371e+07\n",
       "50%      34.960000    35.200000    34.590000    34.960000  4.264970e+07\n",
       "75%      64.357500    65.025000    63.710000    64.485000  5.998210e+07\n",
       "max     178.940000   180.380000   175.750000   179.940000  5.910522e+08"
      ]
     },
     "execution_count": 170,
     "metadata": {},
     "output_type": "execute_result"
    }
   ],
   "source": [
    "stock_dataset.describe()"
   ]
  },
  {
   "cell_type": "code",
   "execution_count": 171,
   "metadata": {},
   "outputs": [
    {
     "data": {
      "text/plain": [
       "<matplotlib.axes._subplots.AxesSubplot at 0x142a56710>"
      ]
     },
     "execution_count": 171,
     "metadata": {},
     "output_type": "execute_result"
    },
    {
     "data": {
      "image/png": "[encoded data removed]",
      "text/plain": [
       "<Figure size 1440x576 with 1 Axes>"
      ]
     },
     "metadata": {
      "needs_background": "light"
     },
     "output_type": "display_data"
    }
   ],
   "source": [
    "stock_dataset['open'].plot(figsize = (20,8))"
   ]
  },
  {
   "cell_type": "code",
   "execution_count": 172,
   "metadata": {},
   "outputs": [
    {
     "data": {
      "text/plain": [
       "(open      4.925981e+01\n",
       " high      4.986477e+01\n",
       " low       4.865470e+01\n",
       " close     4.927271e+01\n",
       " volume    4.745695e+07\n",
       " dtype: float64, open      2.957543e+01\n",
       " high      3.002520e+01\n",
       " low       2.909890e+01\n",
       " close     2.959494e+01\n",
       " volume    2.879121e+07\n",
       " dtype: float64)"
      ]
     },
     "execution_count": 172,
     "metadata": {},
     "output_type": "execute_result"
    }
   ],
   "source": [
    "mean_ = stock_dataset.mean()\n",
    "std_ = stock_dataset.std()\n",
    "mean_,std_"
   ]
  },
  {
   "cell_type": "code",
   "execution_count": 173,
   "metadata": {},
   "outputs": [],
   "source": [
    "stock_dataset = stock_dataset.apply(lambda x : (x - mean_) / std_, axis = 1)"
   ]
  },
  {
   "cell_type": "code",
   "execution_count": 174,
   "metadata": {},
   "outputs": [
    {
     "data": {
      "text/plain": [
       "((5262, 50, 5), (5261,))"
      ]
     },
     "execution_count": 174,
     "metadata": {},
     "output_type": "execute_result"
    }
   ],
   "source": [
    "features = []\n",
    "y = []\n",
    "window_size = 50\n",
    "predicted_size = 1\n",
    "\n",
    "for i in range(stock_dataset.shape[0] - window_size - predicted_size + 1):\n",
    "    features.append(stock_dataset.iloc[i:i+window_size,:].values)\n",
    "    y.append(stock_dataset.iloc[i+window_size,0])\n",
    "\n",
    "features.append(stock_dataset.iloc[-window_size:,:].values)\n",
    "\n",
    "features, y = np.asarray(features), np.asarray(y)\n",
    "features.shape,y.shape\n",
    "#features = np.reshape(features, (features.shape[0], features.shape[1], features.shape[2]))"
   ]
  },
  {
   "cell_type": "code",
   "execution_count": 177,
   "metadata": {},
   "outputs": [
    {
     "name": "stdout",
     "output_type": "stream",
     "text": [
      "(4209, 50, 5) (4209,)\n",
      "(1053, 50, 5) (1052,)\n"
     ]
    }
   ],
   "source": [
    "split_index = int(features.shape[0]*(1-0.2))\n",
    "X_train, X_test = features[0:split_index],features[split_index:]\n",
    "y_train,y_test = y[0:split_index],y[split_index:]\n",
    "\n",
    "print(X_train.shape, y_train.shape)\n",
    "print(X_test.shape, y_test.shape)"
   ]
  },
  {
   "cell_type": "code",
   "execution_count": 184,
   "metadata": {},
   "outputs": [],
   "source": [
    "model = Sequential()\n",
    "\n",
    "model.add(LSTM(units = 50, return_sequences = True, input_shape = (features.shape[1], features.shape[2])))\n",
    "model.add(Dropout(0.2))\n",
    "\n",
    "model.add(LSTM(units = 100, return_sequences = True))\n",
    "model.add(Dropout(0.2))\n",
    "\n",
    "model.add(LSTM(units = 100, return_sequences = True))\n",
    "model.add(Dropout(0.2))\n",
    "\n",
    "model.add(LSTM(units = 50, return_sequences = False))\n",
    "model.add(Dropout(0.2))\n",
    "\n",
    "model.add(Dense(units = 1))\n",
    "\n",
    "model.compile(optimizer = 'adam', loss = 'mean_squared_error')"
   ]
  },
  {
   "cell_type": "code",
   "execution_count": 185,
   "metadata": {},
   "outputs": [
    {
     "name": "stdout",
     "output_type": "stream",
     "text": [
      "Epoch 1/2\n",
      "4209/4209 [==============================] - 28s 7ms/step - loss: 0.0794\n",
      "Epoch 2/2\n",
      "4209/4209 [==============================] - 30s 7ms/step - loss: 0.0368\n"
     ]
    },
    {
     "data": {
      "text/plain": [
       "<keras.callbacks.History at 0x144bdbb00>"
      ]
     },
     "execution_count": 185,
     "metadata": {},
     "output_type": "execute_result"
    }
   ],
   "source": [
    "model.fit(\n",
    "    X_train, \n",
    "    y_train, \n",
    "    epochs = 2, \n",
    "    batch_size = 32\n",
    ")"
   ]
  },
  {
   "cell_type": "code",
   "execution_count": 186,
   "metadata": {},
   "outputs": [],
   "source": [
    "predict_stcok = model.predict(X_test)"
   ]
  },
  {
   "cell_type": "code",
   "execution_count": 187,
   "metadata": {},
   "outputs": [],
   "source": [
    "with open(\"model.pkl\",\"wb\") as f:\n",
    "    pkl.dump(model,f)"
   ]
  },
  {
   "cell_type": "code",
   "execution_count": 188,
   "metadata": {},
   "outputs": [
    {
     "data": {
      "image/png": "[encoded data removed]",
      "text/plain": [
       "<Figure size 1440x288 with 1 Axes>"
      ]
     },
     "metadata": {
      "needs_background": "light"
     },
     "output_type": "display_data"
    }
   ],
   "source": [
    "plt.figure(figsize = (20,4))\n",
    "plt.plot(predict_stcok[0:-1],color='red', label='prediction')\n",
    "plt.plot(y_test,color='blue', label='y_test')\n",
    "plt.legend(loc='upper left')\n",
    "plt.show()"
   ]
  },
  {
   "cell_type": "code",
   "execution_count": null,
   "metadata": {},
   "outputs": [],
   "source": []
  }
 ],
 "metadata": {
  "kernelspec": {
   "display_name": "Python 3",
   "language": "python",
   "name": "python3"
  },
  "language_info": {
   "codemirror_mode": {
    "name": "ipython",
    "version": 3
   },
   "file_extension": ".py",
   "mimetype": "text/x-python",
   "name": "python",
   "nbconvert_exporter": "python",
   "pygments_lexer": "ipython3",
   "version": "3.6.8"
  }
 },
 "nbformat": 4,
 "nbformat_minor": 2
}
