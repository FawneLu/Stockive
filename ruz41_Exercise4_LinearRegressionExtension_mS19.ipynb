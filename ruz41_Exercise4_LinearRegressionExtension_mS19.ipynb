{
 "cells": [
  {
   "cell_type": "markdown",
   "metadata": {},
   "source": [
    "# Linear Regression\n",
    "\n",
    "### Qualitative Features & Interaction Terms\n",
    "\n",
    "#### 1-A) Use the credit data set, fit OLS linear regression model to predict credit card balance using all the following features\n",
    " - Student\n",
    " - Income\n",
    " - Limit\n",
    " - Interaction term: Income*Student\n",
    " - Interaction term: Limit*Student\n",
    "\n",
    "#### Find the p-values of all features. Are they all helpful in predicting the response? Why? \n"
   ]
  },
  {
   "cell_type": "markdown",
   "metadata": {},
   "source": [
    "> They are all helpful in predicting the response, because their p-values are all less than 0.05 which indicates they are all statistically significant."
   ]
  },
  {
   "cell_type": "code",
   "execution_count": 1,
   "metadata": {
    "scrolled": false
   },
   "outputs": [
    {
     "name": "stdout",
     "output_type": "stream",
     "text": [
      "Intercept                5.549684e-117\n",
      "Student[T.Yes]            2.330768e-08\n",
      "Income                   7.366425e-105\n",
      "Income:Student[T.Yes]     2.680862e-04\n",
      "Limit                    2.626683e-222\n",
      "Limit:Student[T.Yes]      6.320226e-08\n",
      "dtype: float64\n"
     ]
    }
   ],
   "source": [
    "import statsmodels.formula.api as smf\n",
    "from pandas import read_csv\n",
    "\n",
    "credit = read_csv('Credit2.csv', index_col = 0)\n",
    "\n",
    "model = smf.ols(formula='Balance ~ Student + Income + Limit + Income*Student + Limit*Student', data=credit)\n",
    "results = model.fit()\n",
    "print(results.pvalues)\n",
    "#Add you code here"
   ]
  },
  {
   "cell_type": "markdown",
   "metadata": {},
   "source": [
    "#### 1-B) Unsince sklearn library, find the test $R^2$ score for estimating the balance from features (Income, Limit, StudentEncode) using linear regression model. The StudentEncode is the binary feature that maps Student status to a numerical value ('yes' to 1 and 'No' to 0). \n",
    "- Set random state to zero in train test split\n"
   ]
  },
  {
   "cell_type": "code",
   "execution_count": 2,
   "metadata": {},
   "outputs": [
    {
     "name": "stdout",
     "output_type": "stream",
     "text": [
      "R^2 score is: 0.9492691755287224\n"
     ]
    }
   ],
   "source": [
    "import pandas as pd\n",
    "import numpy as np\n",
    "from sklearn.model_selection import train_test_split\n",
    "from sklearn.linear_model import LinearRegression\n",
    "\n",
    "credit[\"StudentEncode\"] = credit[\"Student\"].apply(lambda x: 0 if x == \"No\" else 1)\n",
    "\n",
    "X_train, X_test, y_train, y_test = train_test_split(credit[[\"Income\",\"Limit\",\"StudentEncode\"]], credit[\"Balance\"], random_state=0)\n",
    "\n",
    "model = LinearRegression()\n",
    "model.fit(X_train,y_train)\n",
    "r_square = model.score(X_test,y_test)\n",
    "print(\"R^2 score is: {}\".format(r_square))\n",
    "#Add you code here"
   ]
  },
  {
   "cell_type": "markdown",
   "metadata": {},
   "source": [
    "#### 1-C) Repeat the above question after adding to the model the two interaction terms: (1) (Income x StudentEncode) and (2) (Limit x StudentEncode)\n",
    "\n",
    "   "
   ]
  },
  {
   "cell_type": "code",
   "execution_count": 3,
   "metadata": {},
   "outputs": [
    {
     "name": "stdout",
     "output_type": "stream",
     "text": [
      "R^2 score is: 0.9525853236314719\n"
     ]
    }
   ],
   "source": [
    "#Add you code here\n",
    "credit[\"Income_StudentEncode\"] = credit[\"Income\"] * credit[\"StudentEncode\"]\n",
    "credit[\"Limit_StudentEncode\"] = credit[\"Limit\"] * credit[\"StudentEncode\"]\n",
    "\n",
    "X_train, X_test, y_train, y_test = train_test_split(credit[[\"Income\",\"Limit\",\"StudentEncode\",\"Income_StudentEncode\",\"Limit_StudentEncode\"]], credit[\"Balance\"], random_state=0)\n",
    "\n",
    "model = LinearRegression()\n",
    "model.fit(X_train,y_train)\n",
    "r_square = model.score(X_test,y_test)\n",
    "print(\"R^2 score is: {}\".format(r_square))"
   ]
  },
  {
   "cell_type": "markdown",
   "metadata": {
    "collapsed": true
   },
   "source": [
    "### Polynomial Regression\n",
    "\n",
    "     Set random_state= 0 in train_test_split in all the questions below.\n",
    "\n",
    "#### 2-A) Use the Auto dataset, \n",
    "  - (i) Find the test $R^2$ metric of a linear regression model that predicts the miles per gallon (mpg) from the horsepower.\n",
    "\n",
    "  - (ii) Use polynomial regression to include both the horsepower feature and $(horsepower)^2$ in the regression model to predict the mpg. Find the test $R^2$ metric in this case\n",
    "\n",
    "Hint: You can use [numpy.concatenate](https://docs.scipy.org/doc/numpy-1.13.0/reference/generated/numpy.concatenate.html). For example to add to an array U a column vector $W^2$, we can use X=np.concatenate((U,W**2),axis=1)"
   ]
  },
  {
   "cell_type": "code",
   "execution_count": 4,
   "metadata": {},
   "outputs": [
    {
     "name": "stdout",
     "output_type": "stream",
     "text": [
      "R^2 score for one feature is: 0.6217658811398382\n",
      "R^2 score for two features is: 0.7271031504642004\n"
     ]
    }
   ],
   "source": [
    "#Solution for (A) \n",
    "from pandas import read_csv\n",
    "from sklearn.linear_model import LinearRegression\n",
    "from sklearn.model_selection import train_test_split\n",
    "import numpy as np\n",
    "\n",
    "AutoData=read_csv('Auto_modify.csv') # read the data\n",
    "#You will need AutoData.horsepower, and AutoData.mpg\n",
    "AutoData[\"horsepower2\"] = AutoData[\"horsepower\"] ** 2\n",
    "\n",
    "X_train, X_test, y_train, y_test = train_test_split(AutoData[[\"horsepower\"]], AutoData[\"mpg\"], random_state=0)\n",
    "\n",
    "\n",
    "model1 = LinearRegression()\n",
    "model1.fit(X_train,y_train)\n",
    "score1 = model1.score(X_test,y_test)\n",
    "print(\"R^2 score for one feature is: {}\".format(score1))\n",
    "\n",
    "\n",
    "X_train, X_test, y_train, y_test = train_test_split(AutoData[[\"horsepower\",\"horsepower2\"]], AutoData[\"mpg\"], random_state=0)\n",
    "\n",
    "model2 = LinearRegression()\n",
    "model2.fit(X_train,y_train)\n",
    "score2 = model2.score(X_test,y_test)\n",
    "\n",
    "print(\"R^2 score for two features is: {}\".format(score2))\n",
    "\n",
    "#Add you code here"
   ]
  },
  {
   "cell_type": "markdown",
   "metadata": {},
   "source": [
    "#### 2-B) With the same auto dataset, use KNN regression with K=7, to fit a model that predicts miles per gallon(mpg) in the following cases:\n",
    "\n",
    "- One feature: Horsepower only\n",
    "\n",
    "- Two features: horsepower and $(horsepower)^2$ \n",
    "\n",
    "#### Use MinMax feaures scaling. Find the $R^2$ metric in each of the above cases. Comparing KNN with linear regression, which model performs better? How does the performance change by adding the quadratic feature?\n",
    "\n",
    "\n"
   ]
  },
  {
   "cell_type": "markdown",
   "metadata": {},
   "source": [
    "> For one feature of horsepower, the KNN works better than Linear Regression because the r suare is 0.661 which is larger than 0.622. For two feature of  horsepower and horsepower^2, Linear Regression works better than KNN because the r square is 0.727 which is larger than 0.670\n",
    "\n",
    "> By adding the quadratic feature, the performance of two model both get better because their r square both become larger. The Linear Regression improved to a greater extent."
   ]
  },
  {
   "cell_type": "code",
   "execution_count": 5,
   "metadata": {},
   "outputs": [
    {
     "name": "stdout",
     "output_type": "stream",
     "text": [
      "R^2 score for one feature is: 0.6609249833061157\n",
      "R^2 score for one feature is: 0.6701084048823853\n"
     ]
    },
    {
     "name": "stderr",
     "output_type": "stream",
     "text": [
      "/Users/ZRC/miniconda3/lib/python3.6/site-packages/sklearn/preprocessing/data.py:323: DataConversionWarning: Data with input dtype int64 were all converted to float64 by MinMaxScaler.\n",
      "  return self.partial_fit(X, y)\n",
      "/Users/ZRC/miniconda3/lib/python3.6/site-packages/sklearn/preprocessing/data.py:323: DataConversionWarning: Data with input dtype int64 were all converted to float64 by MinMaxScaler.\n",
      "  return self.partial_fit(X, y)\n"
     ]
    }
   ],
   "source": [
    "from sklearn import neighbors\n",
    "from sklearn import preprocessing\n",
    "from sklearn.metrics import r2_score\n",
    "\n",
    "\n",
    "AutoData=read_csv('Auto_modify.csv')\n",
    "AutoData[\"horsepower2\"] = AutoData[\"horsepower\"] ** 2\n",
    "\n",
    "\n",
    "\n",
    "X_train, X_test, y_train, y_test = train_test_split(AutoData[[\"horsepower\"]], AutoData[\"mpg\"], random_state=0)\n",
    "\n",
    "# MinMax feaures scaling\n",
    "scalar = preprocessing.MinMaxScaler()\n",
    "X_train = scalar.fit_transform(X_train)\n",
    "\n",
    "model1 = neighbors.KNeighborsRegressor(n_neighbors=7)\n",
    "model1.fit(X_train,y_train)\n",
    "\n",
    "X_test = scalar.transform(X_test)\n",
    "y_pred = model1.predict(X_test)\n",
    "r2_1 = r2_score(y_test, y_pred)\n",
    "print(\"R^2 score for one feature is: {}\".format(r2_1))\n",
    "\n",
    "\n",
    "X_train, X_test, y_train, y_test = train_test_split(AutoData[[\"horsepower\",\"horsepower2\"]], AutoData[\"mpg\"], random_state=0)\n",
    "\n",
    "# MinMax feaures scaling\n",
    "scalar = preprocessing.MinMaxScaler()\n",
    "X_train = scalar.fit_transform(X_train)\n",
    "\n",
    "model2 = neighbors.KNeighborsRegressor(n_neighbors=7)\n",
    "model2.fit(X_train,y_train)\n",
    "\n",
    "X_test = scalar.transform(X_test)\n",
    "y_pred = model2.predict(X_test)\n",
    "r2_2 = r2_score(y_test, y_pred)\n",
    "print(\"R^2 score for one feature is: {}\".format(r2_2))\n",
    "\n"
   ]
  },
  {
   "cell_type": "code",
   "execution_count": null,
   "metadata": {
    "collapsed": true
   },
   "outputs": [],
   "source": []
  }
 ],
 "metadata": {
  "kernelspec": {
   "display_name": "Python 3",
   "language": "python",
   "name": "python3"
  },
  "language_info": {
   "codemirror_mode": {
    "name": "ipython",
    "version": 3
   },
   "file_extension": ".py",
   "mimetype": "text/x-python",
   "name": "python",
   "nbconvert_exporter": "python",
   "pygments_lexer": "ipython3",
   "version": "3.6.8"
  }
 },
 "nbformat": 4,
 "nbformat_minor": 2
}
