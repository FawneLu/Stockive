{
 "cells": [
  {
   "cell_type": "code",
   "execution_count": 1,
   "metadata": {},
   "outputs": [
    {
     "name": "stderr",
     "output_type": "stream",
     "text": [
      "Using TensorFlow backend.\n"
     ]
    }
   ],
   "source": [
    "import numpy as np\n",
    "from matplotlib import pyplot as plt\n",
    "import pandas as pd\n",
    "from keras.models import Sequential\n",
    "from keras.layers import Dense\n",
    "from keras.layers import LSTM\n",
    "from keras.layers import Dropout\n",
    "import pickle as pkl"
   ]
  },
  {
   "cell_type": "markdown",
   "metadata": {},
   "source": [
    "## Create Dataset "
   ]
  },
  {
   "cell_type": "code",
   "execution_count": 2,
   "metadata": {},
   "outputs": [],
   "source": [
    "stock_dataset = pd.read_csv(\"AMD.csv\", index_col = \"Date\", parse_dates=True)"
   ]
  },
  {
   "cell_type": "code",
   "execution_count": 3,
   "metadata": {},
   "outputs": [
    {
     "data": {
      "text/html": [
       "<div>\n",
       "<style scoped>\n",
       "    .dataframe tbody tr th:only-of-type {\n",
       "        vertical-align: middle;\n",
       "    }\n",
       "\n",
       "    .dataframe tbody tr th {\n",
       "        vertical-align: top;\n",
       "    }\n",
       "\n",
       "    .dataframe thead th {\n",
       "        text-align: right;\n",
       "    }\n",
       "</style>\n",
       "<table border=\"1\" class=\"dataframe\">\n",
       "  <thead>\n",
       "    <tr style=\"text-align: right;\">\n",
       "      <th></th>\n",
       "      <th>Open</th>\n",
       "      <th>High</th>\n",
       "      <th>Low</th>\n",
       "      <th>Close</th>\n",
       "      <th>Adj Close</th>\n",
       "      <th>Volume</th>\n",
       "    </tr>\n",
       "    <tr>\n",
       "      <th>Date</th>\n",
       "      <th></th>\n",
       "      <th></th>\n",
       "      <th></th>\n",
       "      <th></th>\n",
       "      <th></th>\n",
       "      <th></th>\n",
       "    </tr>\n",
       "  </thead>\n",
       "  <tbody>\n",
       "    <tr>\n",
       "      <th>2009-05-22</th>\n",
       "      <td>4.43</td>\n",
       "      <td>4.43</td>\n",
       "      <td>4.25</td>\n",
       "      <td>4.26</td>\n",
       "      <td>4.26</td>\n",
       "      <td>8274300</td>\n",
       "    </tr>\n",
       "    <tr>\n",
       "      <th>2009-05-26</th>\n",
       "      <td>4.26</td>\n",
       "      <td>4.57</td>\n",
       "      <td>4.23</td>\n",
       "      <td>4.53</td>\n",
       "      <td>4.53</td>\n",
       "      <td>16094300</td>\n",
       "    </tr>\n",
       "    <tr>\n",
       "      <th>2009-05-27</th>\n",
       "      <td>4.57</td>\n",
       "      <td>4.80</td>\n",
       "      <td>4.55</td>\n",
       "      <td>4.71</td>\n",
       "      <td>4.71</td>\n",
       "      <td>21512600</td>\n",
       "    </tr>\n",
       "    <tr>\n",
       "      <th>2009-05-28</th>\n",
       "      <td>4.75</td>\n",
       "      <td>4.84</td>\n",
       "      <td>4.54</td>\n",
       "      <td>4.70</td>\n",
       "      <td>4.70</td>\n",
       "      <td>18383900</td>\n",
       "    </tr>\n",
       "    <tr>\n",
       "      <th>2009-05-29</th>\n",
       "      <td>4.71</td>\n",
       "      <td>4.78</td>\n",
       "      <td>4.38</td>\n",
       "      <td>4.54</td>\n",
       "      <td>4.54</td>\n",
       "      <td>24539700</td>\n",
       "    </tr>\n",
       "  </tbody>\n",
       "</table>\n",
       "</div>"
      ],
      "text/plain": [
       "            Open  High   Low  Close  Adj Close    Volume\n",
       "Date                                                    \n",
       "2009-05-22  4.43  4.43  4.25   4.26       4.26   8274300\n",
       "2009-05-26  4.26  4.57  4.23   4.53       4.53  16094300\n",
       "2009-05-27  4.57  4.80  4.55   4.71       4.71  21512600\n",
       "2009-05-28  4.75  4.84  4.54   4.70       4.70  18383900\n",
       "2009-05-29  4.71  4.78  4.38   4.54       4.54  24539700"
      ]
     },
     "execution_count": 3,
     "metadata": {},
     "output_type": "execute_result"
    }
   ],
   "source": [
    "stock_dataset.head()"
   ]
  },
  {
   "cell_type": "code",
   "execution_count": 4,
   "metadata": {},
   "outputs": [
    {
     "data": {
      "text/html": [
       "<div>\n",
       "<style scoped>\n",
       "    .dataframe tbody tr th:only-of-type {\n",
       "        vertical-align: middle;\n",
       "    }\n",
       "\n",
       "    .dataframe tbody tr th {\n",
       "        vertical-align: top;\n",
       "    }\n",
       "\n",
       "    .dataframe thead th {\n",
       "        text-align: right;\n",
       "    }\n",
       "</style>\n",
       "<table border=\"1\" class=\"dataframe\">\n",
       "  <thead>\n",
       "    <tr style=\"text-align: right;\">\n",
       "      <th></th>\n",
       "      <th>Open</th>\n",
       "      <th>High</th>\n",
       "      <th>Low</th>\n",
       "      <th>Close</th>\n",
       "      <th>Adj Close</th>\n",
       "      <th>Volume</th>\n",
       "    </tr>\n",
       "  </thead>\n",
       "  <tbody>\n",
       "    <tr>\n",
       "      <th>count</th>\n",
       "      <td>2335.000000</td>\n",
       "      <td>2335.000000</td>\n",
       "      <td>2335.000000</td>\n",
       "      <td>2335.000000</td>\n",
       "      <td>2335.000000</td>\n",
       "      <td>2.335000e+03</td>\n",
       "    </tr>\n",
       "    <tr>\n",
       "      <th>mean</th>\n",
       "      <td>6.434732</td>\n",
       "      <td>6.563961</td>\n",
       "      <td>6.300887</td>\n",
       "      <td>6.433221</td>\n",
       "      <td>6.433221</td>\n",
       "      <td>3.107491e+07</td>\n",
       "    </tr>\n",
       "    <tr>\n",
       "      <th>std</th>\n",
       "      <td>3.872391</td>\n",
       "      <td>3.954999</td>\n",
       "      <td>3.792914</td>\n",
       "      <td>3.879124</td>\n",
       "      <td>3.879124</td>\n",
       "      <td>2.791149e+07</td>\n",
       "    </tr>\n",
       "    <tr>\n",
       "      <th>min</th>\n",
       "      <td>1.620000</td>\n",
       "      <td>1.690000</td>\n",
       "      <td>1.610000</td>\n",
       "      <td>1.620000</td>\n",
       "      <td>1.620000</td>\n",
       "      <td>0.000000e+00</td>\n",
       "    </tr>\n",
       "    <tr>\n",
       "      <th>25%</th>\n",
       "      <td>3.480000</td>\n",
       "      <td>3.550000</td>\n",
       "      <td>3.405000</td>\n",
       "      <td>3.465000</td>\n",
       "      <td>3.465000</td>\n",
       "      <td>1.421670e+07</td>\n",
       "    </tr>\n",
       "    <tr>\n",
       "      <th>50%</th>\n",
       "      <td>5.580000</td>\n",
       "      <td>5.720000</td>\n",
       "      <td>5.450000</td>\n",
       "      <td>5.600000</td>\n",
       "      <td>5.600000</td>\n",
       "      <td>2.228020e+07</td>\n",
       "    </tr>\n",
       "    <tr>\n",
       "      <th>75%</th>\n",
       "      <td>8.555000</td>\n",
       "      <td>8.710000</td>\n",
       "      <td>8.375000</td>\n",
       "      <td>8.565000</td>\n",
       "      <td>8.565000</td>\n",
       "      <td>3.776905e+07</td>\n",
       "    </tr>\n",
       "    <tr>\n",
       "      <th>max</th>\n",
       "      <td>25.510000</td>\n",
       "      <td>27.299999</td>\n",
       "      <td>24.629999</td>\n",
       "      <td>25.260000</td>\n",
       "      <td>25.260000</td>\n",
       "      <td>3.250584e+08</td>\n",
       "    </tr>\n",
       "  </tbody>\n",
       "</table>\n",
       "</div>"
      ],
      "text/plain": [
       "              Open         High          Low        Close    Adj Close  \\\n",
       "count  2335.000000  2335.000000  2335.000000  2335.000000  2335.000000   \n",
       "mean      6.434732     6.563961     6.300887     6.433221     6.433221   \n",
       "std       3.872391     3.954999     3.792914     3.879124     3.879124   \n",
       "min       1.620000     1.690000     1.610000     1.620000     1.620000   \n",
       "25%       3.480000     3.550000     3.405000     3.465000     3.465000   \n",
       "50%       5.580000     5.720000     5.450000     5.600000     5.600000   \n",
       "75%       8.555000     8.710000     8.375000     8.565000     8.565000   \n",
       "max      25.510000    27.299999    24.629999    25.260000    25.260000   \n",
       "\n",
       "             Volume  \n",
       "count  2.335000e+03  \n",
       "mean   3.107491e+07  \n",
       "std    2.791149e+07  \n",
       "min    0.000000e+00  \n",
       "25%    1.421670e+07  \n",
       "50%    2.228020e+07  \n",
       "75%    3.776905e+07  \n",
       "max    3.250584e+08  "
      ]
     },
     "execution_count": 4,
     "metadata": {},
     "output_type": "execute_result"
    }
   ],
   "source": [
    "stock_dataset.describe()"
   ]
  },
  {
   "cell_type": "code",
   "execution_count": 5,
   "metadata": {},
   "outputs": [
    {
     "data": {
      "text/plain": [
       "Open         float64\n",
       "High         float64\n",
       "Low          float64\n",
       "Close        float64\n",
       "Adj Close    float64\n",
       "Volume         int64\n",
       "dtype: object"
      ]
     },
     "execution_count": 5,
     "metadata": {},
     "output_type": "execute_result"
    }
   ],
   "source": [
    "stock_dataset.dtypes"
   ]
  },
  {
   "cell_type": "code",
   "execution_count": 6,
   "metadata": {},
   "outputs": [
    {
     "data": {
      "text/plain": [
       "<matplotlib.axes._subplots.AxesSubplot at 0x10d7987b8>"
      ]
     },
     "execution_count": 6,
     "metadata": {},
     "output_type": "execute_result"
    },
    {
     "data": {
      "image/png": "[encoded data removed]",
      "text/plain": [
       "<Figure size 1440x576 with 1 Axes>"
      ]
     },
     "metadata": {
      "needs_background": "light"
     },
     "output_type": "display_data"
    }
   ],
   "source": [
    "stock_dataset['Open'].plot(figsize = (20,8))"
   ]
  },
  {
   "cell_type": "code",
   "execution_count": 7,
   "metadata": {},
   "outputs": [
    {
     "data": {
      "text/plain": [
       "(6.4347323361884365, 3.872390825060707)"
      ]
     },
     "execution_count": 7,
     "metadata": {},
     "output_type": "execute_result"
    }
   ],
   "source": [
    "open_dataset = stock_dataset[\"Open\"]\n",
    "mean = open_dataset.mean()\n",
    "std = open_dataset.std()\n",
    "mean,std"
   ]
  },
  {
   "cell_type": "code",
   "execution_count": 8,
   "metadata": {},
   "outputs": [
    {
     "data": {
      "text/plain": [
       "Date\n",
       "2009-05-22   -0.517699\n",
       "2009-05-26   -0.561599\n",
       "2009-05-27   -0.481545\n",
       "2009-05-28   -0.435063\n",
       "2009-05-29   -0.445392\n",
       "Name: Open, dtype: float64"
      ]
     },
     "execution_count": 8,
     "metadata": {},
     "output_type": "execute_result"
    }
   ],
   "source": [
    "open_dataset = open_dataset.apply(lambda x : (x - mean) / std)\n",
    "open_dataset.head()"
   ]
  },
  {
   "cell_type": "code",
   "execution_count": 9,
   "metadata": {},
   "outputs": [
    {
     "data": {
      "text/plain": [
       "(2335,)"
      ]
     },
     "execution_count": 9,
     "metadata": {},
     "output_type": "execute_result"
    }
   ],
   "source": [
    "open_dataset.shape"
   ]
  },
  {
   "cell_type": "code",
   "execution_count": 10,
   "metadata": {},
   "outputs": [],
   "source": [
    "features = []\n",
    "y = []\n",
    "\n",
    "window_size = 50\n",
    "predicted_size = 1\n",
    "\n",
    "for i in range(open_dataset.shape[0] - window_size - predicted_size):\n",
    "    features.append(open_dataset[i:i+window_size])\n",
    "    y.append(open_dataset[i+ window_size])\n",
    "features, y = np.array(features), np.array(y)\n",
    "features = np.reshape(features, (features.shape[0], features.shape[1], 1))"
   ]
  },
  {
   "cell_type": "markdown",
   "metadata": {},
   "source": [
    "## Train test split  (20%)"
   ]
  },
  {
   "cell_type": "code",
   "execution_count": 11,
   "metadata": {},
   "outputs": [
    {
     "data": {
      "text/plain": [
       "((1827, 50, 1), (1827,))"
      ]
     },
     "execution_count": 11,
     "metadata": {},
     "output_type": "execute_result"
    }
   ],
   "source": [
    "split_index = int(features.shape[0]*(1-0.2))\n",
    "X_train, X_test = features[0:split_index],features[split_index:]\n",
    "y_train,y_test = y[0:split_index],y[split_index:]\n",
    "\n",
    "X_train.shape, y_train.shape"
   ]
  },
  {
   "cell_type": "markdown",
   "metadata": {},
   "source": [
    "## Create Neural Network"
   ]
  },
  {
   "cell_type": "code",
   "execution_count": 14,
   "metadata": {},
   "outputs": [],
   "source": [
    "model = Sequential()\n",
    "\n",
    "model.add(LSTM(units = 50, return_sequences = True, input_shape = (window_size, 1)))\n",
    "model.add(Dropout(0.2))\n",
    "\n",
    "model.add(LSTM(units = 100, return_sequences = True))\n",
    "model.add(Dropout(0.2))\n",
    "\n",
    "model.add(LSTM(units = 100, return_sequences = True))\n",
    "model.add(Dropout(0.2))\n",
    "\n",
    "model.add(LSTM(units = 50, return_sequences = False))\n",
    "model.add(Dropout(0.2))\n",
    "\n",
    "model.add(Dense(units = 1))\n",
    "\n",
    "model.compile(optimizer = 'adam', loss = 'mean_squared_error')"
   ]
  },
  {
   "cell_type": "markdown",
   "metadata": {},
   "source": [
    "## Fit model"
   ]
  },
  {
   "cell_type": "code",
   "execution_count": 15,
   "metadata": {},
   "outputs": [
    {
     "name": "stdout",
     "output_type": "stream",
     "text": [
      "Epoch 1/50\n",
      "2284/2284 [==============================] - 18s 8ms/step - loss: 0.1279\n",
      "Epoch 2/50\n",
      "2284/2284 [==============================] - 15s 6ms/step - loss: 0.0447\n",
      "Epoch 3/50\n",
      "2284/2284 [==============================] - 17s 7ms/step - loss: 0.0416\n",
      "Epoch 4/50\n",
      "2284/2284 [==============================] - 16s 7ms/step - loss: 0.0368\n",
      "Epoch 5/50\n",
      "2284/2284 [==============================] - 15s 7ms/step - loss: 0.0322\n",
      "Epoch 6/50\n",
      "2284/2284 [==============================] - 16s 7ms/step - loss: 0.0312\n",
      "Epoch 7/50\n",
      "2284/2284 [==============================] - 14s 6ms/step - loss: 0.0291\n",
      "Epoch 8/50\n",
      "2284/2284 [==============================] - 15s 7ms/step - loss: 0.0305\n",
      "Epoch 9/50\n",
      "2284/2284 [==============================] - 16s 7ms/step - loss: 0.0290\n",
      "Epoch 10/50\n",
      "2284/2284 [==============================] - 16s 7ms/step - loss: 0.0251\n",
      "Epoch 11/50\n",
      "2284/2284 [==============================] - 15s 6ms/step - loss: 0.0259\n",
      "Epoch 12/50\n",
      "2284/2284 [==============================] - 14s 6ms/step - loss: 0.0233\n",
      "Epoch 13/50\n",
      "2284/2284 [==============================] - 14s 6ms/step - loss: 0.0262\n",
      "Epoch 14/50\n",
      "2284/2284 [==============================] - 14s 6ms/step - loss: 0.0219\n",
      "Epoch 15/50\n",
      "2284/2284 [==============================] - 14s 6ms/step - loss: 0.0217\n",
      "Epoch 16/50\n",
      "2284/2284 [==============================] - 14s 6ms/step - loss: 0.0203\n",
      "Epoch 17/50\n",
      "2284/2284 [==============================] - 13s 6ms/step - loss: 0.0227\n",
      "Epoch 18/50\n",
      "2284/2284 [==============================] - 16s 7ms/step - loss: 0.0209\n",
      "Epoch 19/50\n",
      "2284/2284 [==============================] - 15s 6ms/step - loss: 0.0222\n",
      "Epoch 20/50\n",
      "2284/2284 [==============================] - 15s 6ms/step - loss: 0.0184\n",
      "Epoch 21/50\n",
      "2284/2284 [==============================] - 15s 6ms/step - loss: 0.0193\n",
      "Epoch 22/50\n",
      "2284/2284 [==============================] - 15s 6ms/step - loss: 0.0201\n",
      "Epoch 23/50\n",
      "2284/2284 [==============================] - 16s 7ms/step - loss: 0.0164\n",
      "Epoch 24/50\n",
      "2284/2284 [==============================] - 16s 7ms/step - loss: 0.0155\n",
      "Epoch 25/50\n",
      "2284/2284 [==============================] - 16s 7ms/step - loss: 0.0164\n",
      "Epoch 26/50\n",
      "2284/2284 [==============================] - 17s 7ms/step - loss: 0.0163\n",
      "Epoch 27/50\n",
      "2284/2284 [==============================] - 16s 7ms/step - loss: 0.0158\n",
      "Epoch 28/50\n",
      "2284/2284 [==============================] - 16s 7ms/step - loss: 0.0160\n",
      "Epoch 29/50\n",
      "2284/2284 [==============================] - 16s 7ms/step - loss: 0.0186\n",
      "Epoch 30/50\n",
      "2284/2284 [==============================] - 13s 6ms/step - loss: 0.0166\n",
      "Epoch 31/50\n",
      "2284/2284 [==============================] - 15s 7ms/step - loss: 0.0154\n",
      "Epoch 32/50\n",
      "2284/2284 [==============================] - 15s 7ms/step - loss: 0.0164\n",
      "Epoch 33/50\n",
      "2284/2284 [==============================] - 16s 7ms/step - loss: 0.0164\n",
      "Epoch 34/50\n",
      "2284/2284 [==============================] - 14s 6ms/step - loss: 0.0147\n",
      "Epoch 35/50\n",
      "2284/2284 [==============================] - 15s 6ms/step - loss: 0.0170\n",
      "Epoch 36/50\n",
      "2284/2284 [==============================] - 15s 6ms/step - loss: 0.0176\n",
      "Epoch 37/50\n",
      "2284/2284 [==============================] - 14s 6ms/step - loss: 0.0145\n",
      "Epoch 38/50\n",
      "2284/2284 [==============================] - 15s 7ms/step - loss: 0.0148\n",
      "Epoch 39/50\n",
      "2284/2284 [==============================] - 15s 7ms/step - loss: 0.0178\n",
      "Epoch 40/50\n",
      "2284/2284 [==============================] - 14s 6ms/step - loss: 0.0174\n",
      "Epoch 41/50\n",
      "2284/2284 [==============================] - 15s 7ms/step - loss: 0.0159\n",
      "Epoch 42/50\n",
      "2284/2284 [==============================] - 15s 7ms/step - loss: 0.0158\n",
      "Epoch 43/50\n",
      "2284/2284 [==============================] - 16s 7ms/step - loss: 0.0152\n",
      "Epoch 44/50\n",
      "2284/2284 [==============================] - 14s 6ms/step - loss: 0.0143\n",
      "Epoch 45/50\n",
      "2284/2284 [==============================] - 15s 7ms/step - loss: 0.0159\n",
      "Epoch 46/50\n",
      "2284/2284 [==============================] - 14s 6ms/step - loss: 0.0146\n",
      "Epoch 47/50\n",
      "2284/2284 [==============================] - 14s 6ms/step - loss: 0.0159\n",
      "Epoch 48/50\n",
      "2284/2284 [==============================] - 14s 6ms/step - loss: 0.0147\n",
      "Epoch 49/50\n",
      "2284/2284 [==============================] - 13s 6ms/step - loss: 0.0148\n",
      "Epoch 50/50\n",
      "2284/2284 [==============================] - 13s 6ms/step - loss: 0.0161\n"
     ]
    },
    {
     "data": {
      "text/plain": [
       "<keras.callbacks.History at 0x10e693ba8>"
      ]
     },
     "execution_count": 15,
     "metadata": {},
     "output_type": "execute_result"
    }
   ],
   "source": [
    "model.fit(\n",
    "    features, \n",
    "    y, \n",
    "    epochs = 50, \n",
    "    batch_size = 32\n",
    ")"
   ]
  },
  {
   "cell_type": "code",
   "execution_count": 16,
   "metadata": {},
   "outputs": [],
   "source": [
    "predict_stcok = model.predict(X_test)"
   ]
  },
  {
   "cell_type": "code",
   "execution_count": 17,
   "metadata": {},
   "outputs": [],
   "source": [
    "with open(\"model.pkl\",\"wb\") as f:\n",
    "    pkl.dump(model,f)"
   ]
  },
  {
   "cell_type": "code",
   "execution_count": 2,
   "metadata": {},
   "outputs": [
    {
     "ename": "NameError",
     "evalue": "name 'plt' is not defined",
     "output_type": "error",
     "traceback": [
      "\u001b[0;31m---------------------------------------------------------------------------\u001b[0m",
      "\u001b[0;31mNameError\u001b[0m                                 Traceback (most recent call last)",
      "\u001b[0;32m<ipython-input-2-411d58f917db>\u001b[0m in \u001b[0;36m<module>\u001b[0;34m\u001b[0m\n\u001b[0;32m----> 1\u001b[0;31m \u001b[0mplt\u001b[0m\u001b[0;34m.\u001b[0m\u001b[0mfigure\u001b[0m\u001b[0;34m(\u001b[0m\u001b[0mfigsize\u001b[0m \u001b[0;34m=\u001b[0m \u001b[0;34m(\u001b[0m\u001b[0;36m20\u001b[0m\u001b[0;34m,\u001b[0m\u001b[0;36m4\u001b[0m\u001b[0;34m)\u001b[0m\u001b[0;34m)\u001b[0m\u001b[0;34m\u001b[0m\u001b[0;34m\u001b[0m\u001b[0m\n\u001b[0m\u001b[1;32m      2\u001b[0m \u001b[0mplt\u001b[0m\u001b[0;34m.\u001b[0m\u001b[0mplot\u001b[0m\u001b[0;34m(\u001b[0m\u001b[0mpredict_stcok\u001b[0m\u001b[0;34m,\u001b[0m\u001b[0mcolor\u001b[0m\u001b[0;34m=\u001b[0m\u001b[0;34m'red'\u001b[0m\u001b[0;34m,\u001b[0m \u001b[0mlabel\u001b[0m\u001b[0;34m=\u001b[0m\u001b[0;34m'prediction'\u001b[0m\u001b[0;34m)\u001b[0m\u001b[0;34m\u001b[0m\u001b[0;34m\u001b[0m\u001b[0m\n\u001b[1;32m      3\u001b[0m \u001b[0mplt\u001b[0m\u001b[0;34m.\u001b[0m\u001b[0mplot\u001b[0m\u001b[0;34m(\u001b[0m\u001b[0my_test\u001b[0m\u001b[0;34m,\u001b[0m\u001b[0mcolor\u001b[0m\u001b[0;34m=\u001b[0m\u001b[0;34m'blue'\u001b[0m\u001b[0;34m,\u001b[0m \u001b[0mlabel\u001b[0m\u001b[0;34m=\u001b[0m\u001b[0;34m'y_test'\u001b[0m\u001b[0;34m)\u001b[0m\u001b[0;34m\u001b[0m\u001b[0;34m\u001b[0m\u001b[0m\n\u001b[1;32m      4\u001b[0m \u001b[0mplt\u001b[0m\u001b[0;34m.\u001b[0m\u001b[0mlegend\u001b[0m\u001b[0;34m(\u001b[0m\u001b[0mloc\u001b[0m\u001b[0;34m=\u001b[0m\u001b[0;34m'upper left'\u001b[0m\u001b[0;34m)\u001b[0m\u001b[0;34m\u001b[0m\u001b[0;34m\u001b[0m\u001b[0m\n\u001b[1;32m      5\u001b[0m \u001b[0mplt\u001b[0m\u001b[0;34m.\u001b[0m\u001b[0mshow\u001b[0m\u001b[0;34m(\u001b[0m\u001b[0;34m)\u001b[0m\u001b[0;34m\u001b[0m\u001b[0;34m\u001b[0m\u001b[0m\n",
      "\u001b[0;31mNameError\u001b[0m: name 'plt' is not defined"
     ]
    }
   ],
   "source": [
    "plt.figure(figsize = (20,4))\n",
    "plt.plot(predict_stcok,color='red', label='prediction')\n",
    "plt.plot(y_test,color='blue', label='y_test')\n",
    "plt.legend(loc='upper left')\n",
    "plt.show()"
   ]
  },
  {
   "cell_type": "code",
   "execution_count": 1,
   "metadata": {},
   "outputs": [
    {
     "ename": "NameError",
     "evalue": "name 'predict_stcok' is not defined",
     "output_type": "error",
     "traceback": [
      "\u001b[0;31m---------------------------------------------------------------------------\u001b[0m",
      "\u001b[0;31mNameError\u001b[0m                                 Traceback (most recent call last)",
      "\u001b[0;32m<ipython-input-1-d62070c81c71>\u001b[0m in \u001b[0;36m<module>\u001b[0;34m\u001b[0m\n\u001b[1;32m      1\u001b[0m \u001b[0;32mfrom\u001b[0m \u001b[0mscipy\u001b[0m\u001b[0;34m.\u001b[0m\u001b[0mstats\u001b[0m \u001b[0;32mimport\u001b[0m \u001b[0mpearsonr\u001b[0m\u001b[0;34m\u001b[0m\u001b[0;34m\u001b[0m\u001b[0m\n\u001b[0;32m----> 2\u001b[0;31m \u001b[0mprint\u001b[0m\u001b[0;34m(\u001b[0m\u001b[0mpearsonr\u001b[0m\u001b[0;34m(\u001b[0m\u001b[0mpredict_stcok\u001b[0m\u001b[0;34m,\u001b[0m\u001b[0my_test\u001b[0m\u001b[0;34m)\u001b[0m\u001b[0;34m)\u001b[0m\u001b[0;34m\u001b[0m\u001b[0;34m\u001b[0m\u001b[0m\n\u001b[0m",
      "\u001b[0;31mNameError\u001b[0m: name 'predict_stcok' is not defined"
     ]
    }
   ],
   "source": [
    "from scipy.stats import pearsonr\n",
    "print(pearsonr(predict_stcok,y_test))\n"
   ]
  },
  {
   "cell_type": "code",
   "execution_count": null,
   "metadata": {},
   "outputs": [],
   "source": []
  }
 ],
 "metadata": {
  "kernelspec": {
   "display_name": "Python 3",
   "language": "python",
   "name": "python3"
  },
  "language_info": {
   "codemirror_mode": {
    "name": "ipython",
    "version": 3
   },
   "file_extension": ".py",
   "mimetype": "text/x-python",
   "name": "python",
   "nbconvert_exporter": "python",
   "pygments_lexer": "ipython3",
   "version": "3.7.1"
  }
 },
 "nbformat": 4,
 "nbformat_minor": 2
}
